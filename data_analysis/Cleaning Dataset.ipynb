{
 "cells": [
  {
   "cell_type": "markdown",
   "metadata": {},
   "source": [
    "#  Cleaning the Dataset"
   ]
  },
  {
   "cell_type": "code",
   "execution_count": 404,
   "metadata": {},
   "outputs": [
    {
     "name": "stderr",
     "output_type": "stream",
     "text": [
      "/home/arnau/anaconda3/lib/python3.6/site-packages/IPython/core/interactiveshell.py:2717: DtypeWarning: Columns (5,44,53,77,97) have mixed types. Specify dtype option on import or set low_memory=False.\n",
      "  interactivity=interactivity, compiler=compiler, result=result)\n"
     ]
    }
   ],
   "source": [
    "import pandas as pd\n",
    "import numpy as np\n",
    "\n",
    "path='./data_sets/SampleData.csv'\n",
    "df=pd.read_csv(path,encoding='cp1252')"
   ]
  },
  {
   "cell_type": "code",
   "execution_count": 405,
   "metadata": {},
   "outputs": [
    {
     "data": {
      "text/plain": [
       "(9240, 122)"
      ]
     },
     "execution_count": 405,
     "metadata": {},
     "output_type": "execute_result"
    }
   ],
   "source": [
    "df.shape "
   ]
  },
  {
   "cell_type": "markdown",
   "metadata": {},
   "source": [
    "We have 122 columns!!"
   ]
  },
  {
   "cell_type": "code",
   "execution_count": 406,
   "metadata": {},
   "outputs": [
    {
     "name": "stdout",
     "output_type": "stream",
     "text": [
      "Column names:\n",
      "['Prospect ID', 'Lead Number', 'Company', 'Lead Origin', 'Mobile Number', 'Website', 'Time Zone', 'Job Title', 'Lead Source', 'Source Medium', 'Notes', 'Source Campaign', 'Source Content', 'Do Not Email', 'Do Not Call', 'Lead Stage', 'Lead Grade', 'Lead Score', 'Order Value', 'Engagement Score', 'TotalVisits', 'Page Views Per Visit', 'Average Time Per Visit', 'Last Activity', 'Last Activity Date', 'Related Landing Page Id', 'First Landing Page Submission Id', 'First Landing Page Submission Date', 'Created On', 'Modified On', 'Lead Conversion Date', 'Address 1', 'Address 2', 'Cityold', 'State', 'Country', 'Zip', 'Facebook URL', 'Twitter URL', 'LinkedIn URL', 'Industry', 'Work Area', 'Course Interested', 'Keyword', 'Date', 'Specialization', 'Entrance Test', 'How did you hear about SomeSchool', 'What is your current occupation', 'If you are a working professional', 'If you are a working professional please mention ', 'What matters most to you in choosing an ADP', 'Age', 'Next Follow Up', 'Search', 'Magazine', 'Newspaper Article', 'Welearn Forums', 'Newspaper', 'Digital Advertisement', 'Through Recommendations', 'Any other Please specify', 'Last Degree', 'Receive More Updates About Our Courses', 'Admission Number', 'Tags', 'Lead Quality', 'Update me on Supply Chain Content', 'Get updates on PGDMHBSCM', 'Chat Group', 'Lead Profile', 'City New', 'Country New', 'Industry New', 'Profile Score', 'Asymmetrique Activity Index', 'Asymmetrique Profile Index', 'ecode', 'amt', 'eventname', 'Enquiry Type', 'Asymmetrique Activity Score', 'Asymmetrique Profile Score', 'Admission Date', 'I agree to pay the amount through cheque', 'Previous Stage', 'Number of Followup Calls', 'Asym how soon you can join program', 'Asymm Reason to take admission', 'Asymm Are you aware about SomeSchool College', 'Asymm Are you applying for any other form of MBA', 'Asym What is your expectation from this course', 'Asym How do you feel about taking admission', 'Asym What stopping you from joining course', 'Asym What are your concerns for taking admission', 'Asym preferences for selecting management course', 'a free copy of Mastering The Interview', 'What attracted you to consider SomeSchool ', 'you to consider SomeSchool ', 'Landing Page', 'Admission Constraints', 'Lead Type', 'Asymmetrique Scoring Model', 'Last Notable Activity', 'Last Notable Activity Date', 'Source Referrer', 'Last Visit Date', 'Photo Url', 'Stage Rotting Flag Status', 'Stage Rotting Flag Message', 'Stage Rotting Flag Modification Date', 'Stage Rotting Flag Additional Info', 'Stage Rotting Flag Level', 'Mailing Preferences', 'Twitter Id', 'Facebook Id', 'LinkedIn Id', 'Skype Id', 'Gtalk Id', 'Google Plus Id', 'Quality Score 01', 'Groups']\n"
     ]
    }
   ],
   "source": [
    "col_names = df.columns.tolist()\n",
    "\n",
    "print(\"Column names:\")\n",
    "print(col_names)"
   ]
  },
  {
   "cell_type": "code",
   "execution_count": 407,
   "metadata": {
    "collapsed": true
   },
   "outputs": [],
   "source": [
    "df = df.replace(': ',np.nan)\n",
    "df = df.replace('Select ',np.nan)\n",
    "\n"
   ]
  },
  {
   "cell_type": "code",
   "execution_count": 408,
   "metadata": {},
   "outputs": [
    {
     "data": {
      "text/html": [
       "<div>\n",
       "<style>\n",
       "    .dataframe thead tr:only-child th {\n",
       "        text-align: right;\n",
       "    }\n",
       "\n",
       "    .dataframe thead th {\n",
       "        text-align: left;\n",
       "    }\n",
       "\n",
       "    .dataframe tbody tr th {\n",
       "        vertical-align: top;\n",
       "    }\n",
       "</style>\n",
       "<table border=\"1\" class=\"dataframe\">\n",
       "  <thead>\n",
       "    <tr style=\"text-align: right;\">\n",
       "      <th></th>\n",
       "      <th>Prospect ID</th>\n",
       "      <th>Lead Number</th>\n",
       "      <th>Company</th>\n",
       "      <th>Lead Origin</th>\n",
       "      <th>Mobile Number</th>\n",
       "      <th>Website</th>\n",
       "      <th>Time Zone</th>\n",
       "      <th>Job Title</th>\n",
       "      <th>Lead Source</th>\n",
       "      <th>Source Medium</th>\n",
       "      <th>...</th>\n",
       "      <th>Stage Rotting Flag Level</th>\n",
       "      <th>Mailing Preferences</th>\n",
       "      <th>Twitter Id</th>\n",
       "      <th>Facebook Id</th>\n",
       "      <th>LinkedIn Id</th>\n",
       "      <th>Skype Id</th>\n",
       "      <th>Gtalk Id</th>\n",
       "      <th>Google Plus Id</th>\n",
       "      <th>Quality Score 01</th>\n",
       "      <th>Groups</th>\n",
       "    </tr>\n",
       "  </thead>\n",
       "  <tbody>\n",
       "    <tr>\n",
       "      <th>0</th>\n",
       "      <td>7927b2df-8bba-4d29-b9a2-b6e0beafe620</td>\n",
       "      <td>660737</td>\n",
       "      <td>NaN</td>\n",
       "      <td>API</td>\n",
       "      <td>NaN</td>\n",
       "      <td>NaN</td>\n",
       "      <td>NaN</td>\n",
       "      <td>NaN</td>\n",
       "      <td>Olark Chat</td>\n",
       "      <td>NaN</td>\n",
       "      <td>...</td>\n",
       "      <td>NaN</td>\n",
       "      <td>NaN</td>\n",
       "      <td>NaN</td>\n",
       "      <td>NaN</td>\n",
       "      <td>NaN</td>\n",
       "      <td>NaN</td>\n",
       "      <td>NaN</td>\n",
       "      <td>NaN</td>\n",
       "      <td>NaN</td>\n",
       "      <td>NaN</td>\n",
       "    </tr>\n",
       "    <tr>\n",
       "      <th>1</th>\n",
       "      <td>2a272436-5132-4136-86fa-dcc88c88f482</td>\n",
       "      <td>660728</td>\n",
       "      <td>NaN</td>\n",
       "      <td>API</td>\n",
       "      <td>NaN</td>\n",
       "      <td>NaN</td>\n",
       "      <td>NaN</td>\n",
       "      <td>NaN</td>\n",
       "      <td>Organic Search</td>\n",
       "      <td>NaN</td>\n",
       "      <td>...</td>\n",
       "      <td>NaN</td>\n",
       "      <td>NaN</td>\n",
       "      <td>NaN</td>\n",
       "      <td>NaN</td>\n",
       "      <td>NaN</td>\n",
       "      <td>NaN</td>\n",
       "      <td>NaN</td>\n",
       "      <td>NaN</td>\n",
       "      <td>NaN</td>\n",
       "      <td>NaN</td>\n",
       "    </tr>\n",
       "    <tr>\n",
       "      <th>2</th>\n",
       "      <td>8cc8c611-a219-4f35-ad23-fdfd2656bd8a</td>\n",
       "      <td>660727</td>\n",
       "      <td>NaN</td>\n",
       "      <td>Landing Page Submission</td>\n",
       "      <td>NaN</td>\n",
       "      <td>NaN</td>\n",
       "      <td>NaN</td>\n",
       "      <td>NaN</td>\n",
       "      <td>Direct Traffic</td>\n",
       "      <td>NaN</td>\n",
       "      <td>...</td>\n",
       "      <td>NaN</td>\n",
       "      <td>NaN</td>\n",
       "      <td>NaN</td>\n",
       "      <td>NaN</td>\n",
       "      <td>NaN</td>\n",
       "      <td>NaN</td>\n",
       "      <td>NaN</td>\n",
       "      <td>NaN</td>\n",
       "      <td>NaN</td>\n",
       "      <td>NaN</td>\n",
       "    </tr>\n",
       "    <tr>\n",
       "      <th>3</th>\n",
       "      <td>0cc2df48-7cf4-4e39-9de9-19797f9b38cc</td>\n",
       "      <td>660719</td>\n",
       "      <td>NaN</td>\n",
       "      <td>Landing Page Submission</td>\n",
       "      <td>NaN</td>\n",
       "      <td>NaN</td>\n",
       "      <td>NaN</td>\n",
       "      <td>NaN</td>\n",
       "      <td>Direct Traffic</td>\n",
       "      <td>NaN</td>\n",
       "      <td>...</td>\n",
       "      <td>NaN</td>\n",
       "      <td>NaN</td>\n",
       "      <td>NaN</td>\n",
       "      <td>NaN</td>\n",
       "      <td>NaN</td>\n",
       "      <td>NaN</td>\n",
       "      <td>NaN</td>\n",
       "      <td>NaN</td>\n",
       "      <td>NaN</td>\n",
       "      <td>NaN</td>\n",
       "    </tr>\n",
       "    <tr>\n",
       "      <th>4</th>\n",
       "      <td>3256f628-e534-4826-9d63-4a8b88782852</td>\n",
       "      <td>660681</td>\n",
       "      <td>NaN</td>\n",
       "      <td>Landing Page Submission</td>\n",
       "      <td>NaN</td>\n",
       "      <td>NaN</td>\n",
       "      <td>NaN</td>\n",
       "      <td>NaN</td>\n",
       "      <td>Google</td>\n",
       "      <td>CPC</td>\n",
       "      <td>...</td>\n",
       "      <td>NaN</td>\n",
       "      <td>NaN</td>\n",
       "      <td>NaN</td>\n",
       "      <td>NaN</td>\n",
       "      <td>NaN</td>\n",
       "      <td>NaN</td>\n",
       "      <td>NaN</td>\n",
       "      <td>NaN</td>\n",
       "      <td>NaN</td>\n",
       "      <td>NaN</td>\n",
       "    </tr>\n",
       "  </tbody>\n",
       "</table>\n",
       "<p>5 rows × 122 columns</p>\n",
       "</div>"
      ],
      "text/plain": [
       "                            Prospect ID  Lead Number Company  \\\n",
       "0  7927b2df-8bba-4d29-b9a2-b6e0beafe620       660737     NaN   \n",
       "1  2a272436-5132-4136-86fa-dcc88c88f482       660728     NaN   \n",
       "2  8cc8c611-a219-4f35-ad23-fdfd2656bd8a       660727     NaN   \n",
       "3  0cc2df48-7cf4-4e39-9de9-19797f9b38cc       660719     NaN   \n",
       "4  3256f628-e534-4826-9d63-4a8b88782852       660681     NaN   \n",
       "\n",
       "               Lead Origin Mobile Number Website  Time Zone Job Title  \\\n",
       "0                      API           NaN     NaN        NaN       NaN   \n",
       "1                      API           NaN     NaN        NaN       NaN   \n",
       "2  Landing Page Submission           NaN     NaN        NaN       NaN   \n",
       "3  Landing Page Submission           NaN     NaN        NaN       NaN   \n",
       "4  Landing Page Submission           NaN     NaN        NaN       NaN   \n",
       "\n",
       "      Lead Source Source Medium   ...   Stage Rotting Flag Level  \\\n",
       "0      Olark Chat           NaN   ...                        NaN   \n",
       "1  Organic Search           NaN   ...                        NaN   \n",
       "2  Direct Traffic           NaN   ...                        NaN   \n",
       "3  Direct Traffic           NaN   ...                        NaN   \n",
       "4          Google           CPC   ...                        NaN   \n",
       "\n",
       "  Mailing Preferences Twitter Id Facebook Id LinkedIn Id Skype Id Gtalk Id  \\\n",
       "0                 NaN        NaN         NaN         NaN      NaN      NaN   \n",
       "1                 NaN        NaN         NaN         NaN      NaN      NaN   \n",
       "2                 NaN        NaN         NaN         NaN      NaN      NaN   \n",
       "3                 NaN        NaN         NaN         NaN      NaN      NaN   \n",
       "4                 NaN        NaN         NaN         NaN      NaN      NaN   \n",
       "\n",
       "   Google Plus Id  Quality Score 01  Groups  \n",
       "0             NaN               NaN     NaN  \n",
       "1             NaN               NaN     NaN  \n",
       "2             NaN               NaN     NaN  \n",
       "3             NaN               NaN     NaN  \n",
       "4             NaN               NaN     NaN  \n",
       "\n",
       "[5 rows x 122 columns]"
      ]
     },
     "execution_count": 408,
     "metadata": {},
     "output_type": "execute_result"
    }
   ],
   "source": [
    "df.head()"
   ]
  },
  {
   "cell_type": "markdown",
   "metadata": {},
   "source": [
    "We can drop first the columns that we know by previous knowladge that they are useless. (feel free to delete them if you thing that they may be useful)"
   ]
  },
  {
   "cell_type": "code",
   "execution_count": 409,
   "metadata": {},
   "outputs": [
    {
     "data": {
      "text/plain": [
       "(9240, 103)"
      ]
     },
     "execution_count": 409,
     "metadata": {},
     "output_type": "execute_result"
    }
   ],
   "source": [
    "drop_columns=['Mobile Number','Prospect ID', 'Lead Number', 'Time Zone',\n",
    " 'Address 1', 'Address 2',  'Facebook URL', 'Twitter URL', 'LinkedIn URL', 'Date', \n",
    "'Admission Number', 'Photo Url', 'Twitter Id', 'Facebook Id', 'LinkedIn Id', 'Skype Id', \n",
    " 'Gtalk Id', 'Google Plus Id', 'Groups']\n",
    "\n",
    "df= df.drop(drop_columns,axis=1)\n",
    "df.shape "
   ]
  },
  {
   "cell_type": "markdown",
   "metadata": {},
   "source": [
    "Misteri: What the following columns mean? Are they useful? \n",
    "\n",
    "'Stage Rotting Flag Status', \n",
    " 'Stage Rotting Flag Message', 'Stage Rotting Flag Modification Date', 'Stage Rotting Flag Additional Info',\n",
    " 'Stage Rotting Flag Level',"
   ]
  },
  {
   "cell_type": "markdown",
   "metadata": {},
   "source": [
    "Let us check how many different values do we have for each feature."
   ]
  },
  {
   "cell_type": "code",
   "execution_count": 410,
   "metadata": {},
   "outputs": [
    {
     "name": "stdout",
     "output_type": "stream",
     "text": [
      "There are 2 unique values for this feature.\n"
     ]
    }
   ],
   "source": [
    "feature='Do Not Email'\n",
    "print ('There are ' +str(np.unique(df[feature]).shape[0]) +' unique values for this feature.')"
   ]
  },
  {
   "cell_type": "code",
   "execution_count": 411,
   "metadata": {},
   "outputs": [
    {
     "name": "stdout",
     "output_type": "stream",
     "text": [
      "Unique values for each feature\n",
      "Lead Origin 5\n",
      "Do Not Email 2\n",
      "Do Not Call 2\n",
      "Lead Stage 9\n",
      "Lead Score 187\n",
      "Order Value 9240\n",
      "Engagement Score 30\n",
      "TotalVisits 178\n",
      "Page Views Per Visit 251\n",
      "Average Time Per Visit 2902\n",
      "Created On 8651\n",
      "Modified On 4490\n",
      "Zip 9224\n",
      "Industry 9240\n",
      "Work Area 9240\n",
      "Keyword 9240\n",
      "Search 2\n",
      "Magazine 1\n",
      "Newspaper Article 2\n",
      "Welearn Forums 2\n",
      "Newspaper 2\n",
      "Digital Advertisement 2\n",
      "Through Recommendations 2\n",
      "Receive More Updates About Our Courses 1\n",
      "Update me on Supply Chain Content 1\n",
      "Get updates on PGDMHBSCM 1\n",
      "amt 9208\n",
      "Enquiry Type 9240\n",
      "Asymmetrique Activity Score 4230\n",
      "Asymmetrique Profile Score 4228\n",
      "I agree to pay the amount through cheque 1\n",
      "a free copy of Mastering The Interview 2\n",
      "Landing Page 9240\n",
      "Asymmetrique Scoring Model 4219\n",
      "Last Notable Activity 16\n",
      "Last Notable Activity Date 4941\n",
      "Stage Rotting Flag Status 9240\n",
      "Stage Rotting Flag Message 9240\n",
      "Stage Rotting Flag Modification Date 9240\n",
      "Stage Rotting Flag Additional Info 9240\n",
      "Stage Rotting Flag Level 9240\n",
      "Mailing Preferences 9240\n",
      "Quality Score 01 9240\n"
     ]
    }
   ],
   "source": [
    "col_names = df.columns.tolist()\n",
    "col_BooleanFeatures=[]\n",
    "to_drop=[]\n",
    "potentialOnehot=[]\n",
    "col_problems=[]\n",
    "print('Unique values for each feature')\n",
    "for i in col_names:\n",
    "    try:\n",
    "        x=np.unique(df[i]).shape[0]  \n",
    "        print (i, x) \n",
    "        if(x==2):\n",
    "            col_BooleanFeatures.append(i)  \n",
    "        if(x==1):\n",
    "            to_drop.append(i)\n",
    "        if(x>2 and x<30):\n",
    "            potentialOnehot.append(i)\n",
    "    except: # some characters like < - , make np.unique fail. FIGURE OUT how to solve it!\n",
    "        col_problems.append(i)"
   ]
  },
  {
   "cell_type": "markdown",
   "metadata": {},
   "source": [
    "We drop the features with only one value. "
   ]
  },
  {
   "cell_type": "code",
   "execution_count": 412,
   "metadata": {
    "collapsed": true
   },
   "outputs": [],
   "source": [
    "df= df.drop(to_drop,axis=1)"
   ]
  },
  {
   "cell_type": "markdown",
   "metadata": {},
   "source": [
    "Change Yes/No by 1/0"
   ]
  },
  {
   "cell_type": "code",
   "execution_count": 413,
   "metadata": {},
   "outputs": [
    {
     "data": {
      "text/html": [
       "<div>\n",
       "<style>\n",
       "    .dataframe thead tr:only-child th {\n",
       "        text-align: right;\n",
       "    }\n",
       "\n",
       "    .dataframe thead th {\n",
       "        text-align: left;\n",
       "    }\n",
       "\n",
       "    .dataframe tbody tr th {\n",
       "        vertical-align: top;\n",
       "    }\n",
       "</style>\n",
       "<table border=\"1\" class=\"dataframe\">\n",
       "  <thead>\n",
       "    <tr style=\"text-align: right;\">\n",
       "      <th></th>\n",
       "      <th>Do Not Email</th>\n",
       "      <th>Do Not Call</th>\n",
       "      <th>Search</th>\n",
       "      <th>Newspaper Article</th>\n",
       "      <th>Welearn Forums</th>\n",
       "      <th>Newspaper</th>\n",
       "      <th>Digital Advertisement</th>\n",
       "      <th>Through Recommendations</th>\n",
       "      <th>a free copy of Mastering The Interview</th>\n",
       "    </tr>\n",
       "  </thead>\n",
       "  <tbody>\n",
       "    <tr>\n",
       "      <th>0</th>\n",
       "      <td>No</td>\n",
       "      <td>No</td>\n",
       "      <td>No</td>\n",
       "      <td>No</td>\n",
       "      <td>No</td>\n",
       "      <td>No</td>\n",
       "      <td>No</td>\n",
       "      <td>No</td>\n",
       "      <td>No</td>\n",
       "    </tr>\n",
       "    <tr>\n",
       "      <th>1</th>\n",
       "      <td>No</td>\n",
       "      <td>No</td>\n",
       "      <td>No</td>\n",
       "      <td>No</td>\n",
       "      <td>No</td>\n",
       "      <td>No</td>\n",
       "      <td>No</td>\n",
       "      <td>No</td>\n",
       "      <td>No</td>\n",
       "    </tr>\n",
       "    <tr>\n",
       "      <th>2</th>\n",
       "      <td>No</td>\n",
       "      <td>No</td>\n",
       "      <td>No</td>\n",
       "      <td>No</td>\n",
       "      <td>No</td>\n",
       "      <td>No</td>\n",
       "      <td>No</td>\n",
       "      <td>No</td>\n",
       "      <td>Yes</td>\n",
       "    </tr>\n",
       "    <tr>\n",
       "      <th>3</th>\n",
       "      <td>No</td>\n",
       "      <td>No</td>\n",
       "      <td>No</td>\n",
       "      <td>No</td>\n",
       "      <td>No</td>\n",
       "      <td>No</td>\n",
       "      <td>No</td>\n",
       "      <td>No</td>\n",
       "      <td>No</td>\n",
       "    </tr>\n",
       "    <tr>\n",
       "      <th>4</th>\n",
       "      <td>No</td>\n",
       "      <td>No</td>\n",
       "      <td>No</td>\n",
       "      <td>No</td>\n",
       "      <td>No</td>\n",
       "      <td>No</td>\n",
       "      <td>No</td>\n",
       "      <td>No</td>\n",
       "      <td>No</td>\n",
       "    </tr>\n",
       "  </tbody>\n",
       "</table>\n",
       "</div>"
      ],
      "text/plain": [
       "  Do Not Email Do Not Call Search Newspaper Article Welearn Forums Newspaper  \\\n",
       "0           No          No     No                No             No        No   \n",
       "1           No          No     No                No             No        No   \n",
       "2           No          No     No                No             No        No   \n",
       "3           No          No     No                No             No        No   \n",
       "4           No          No     No                No             No        No   \n",
       "\n",
       "  Digital Advertisement Through Recommendations  \\\n",
       "0                    No                      No   \n",
       "1                    No                      No   \n",
       "2                    No                      No   \n",
       "3                    No                      No   \n",
       "4                    No                      No   \n",
       "\n",
       "  a free copy of Mastering The Interview  \n",
       "0                                     No  \n",
       "1                                     No  \n",
       "2                                    Yes  \n",
       "3                                     No  \n",
       "4                                     No  "
      ]
     },
     "execution_count": 413,
     "metadata": {},
     "output_type": "execute_result"
    }
   ],
   "source": [
    "df[col_BooleanFeatures].head()\n"
   ]
  },
  {
   "cell_type": "code",
   "execution_count": 414,
   "metadata": {},
   "outputs": [],
   "source": [
    "df[col_BooleanFeatures]= np.where(df[col_BooleanFeatures]=='Yes',1.,0.)\n"
   ]
  },
  {
   "cell_type": "code",
   "execution_count": 415,
   "metadata": {},
   "outputs": [
    {
     "data": {
      "text/html": [
       "<div>\n",
       "<style>\n",
       "    .dataframe thead tr:only-child th {\n",
       "        text-align: right;\n",
       "    }\n",
       "\n",
       "    .dataframe thead th {\n",
       "        text-align: left;\n",
       "    }\n",
       "\n",
       "    .dataframe tbody tr th {\n",
       "        vertical-align: top;\n",
       "    }\n",
       "</style>\n",
       "<table border=\"1\" class=\"dataframe\">\n",
       "  <thead>\n",
       "    <tr style=\"text-align: right;\">\n",
       "      <th></th>\n",
       "      <th>Do Not Email</th>\n",
       "      <th>Do Not Call</th>\n",
       "      <th>Search</th>\n",
       "      <th>Newspaper Article</th>\n",
       "      <th>Welearn Forums</th>\n",
       "      <th>Newspaper</th>\n",
       "      <th>Digital Advertisement</th>\n",
       "      <th>Through Recommendations</th>\n",
       "      <th>a free copy of Mastering The Interview</th>\n",
       "    </tr>\n",
       "  </thead>\n",
       "  <tbody>\n",
       "    <tr>\n",
       "      <th>0</th>\n",
       "      <td>0.0</td>\n",
       "      <td>0.0</td>\n",
       "      <td>0.0</td>\n",
       "      <td>0.0</td>\n",
       "      <td>0.0</td>\n",
       "      <td>0.0</td>\n",
       "      <td>0.0</td>\n",
       "      <td>0.0</td>\n",
       "      <td>0.0</td>\n",
       "    </tr>\n",
       "    <tr>\n",
       "      <th>1</th>\n",
       "      <td>0.0</td>\n",
       "      <td>0.0</td>\n",
       "      <td>0.0</td>\n",
       "      <td>0.0</td>\n",
       "      <td>0.0</td>\n",
       "      <td>0.0</td>\n",
       "      <td>0.0</td>\n",
       "      <td>0.0</td>\n",
       "      <td>0.0</td>\n",
       "    </tr>\n",
       "    <tr>\n",
       "      <th>2</th>\n",
       "      <td>0.0</td>\n",
       "      <td>0.0</td>\n",
       "      <td>0.0</td>\n",
       "      <td>0.0</td>\n",
       "      <td>0.0</td>\n",
       "      <td>0.0</td>\n",
       "      <td>0.0</td>\n",
       "      <td>0.0</td>\n",
       "      <td>1.0</td>\n",
       "    </tr>\n",
       "    <tr>\n",
       "      <th>3</th>\n",
       "      <td>0.0</td>\n",
       "      <td>0.0</td>\n",
       "      <td>0.0</td>\n",
       "      <td>0.0</td>\n",
       "      <td>0.0</td>\n",
       "      <td>0.0</td>\n",
       "      <td>0.0</td>\n",
       "      <td>0.0</td>\n",
       "      <td>0.0</td>\n",
       "    </tr>\n",
       "    <tr>\n",
       "      <th>4</th>\n",
       "      <td>0.0</td>\n",
       "      <td>0.0</td>\n",
       "      <td>0.0</td>\n",
       "      <td>0.0</td>\n",
       "      <td>0.0</td>\n",
       "      <td>0.0</td>\n",
       "      <td>0.0</td>\n",
       "      <td>0.0</td>\n",
       "      <td>0.0</td>\n",
       "    </tr>\n",
       "  </tbody>\n",
       "</table>\n",
       "</div>"
      ],
      "text/plain": [
       "   Do Not Email  Do Not Call  Search  Newspaper Article  Welearn Forums  \\\n",
       "0           0.0          0.0     0.0                0.0             0.0   \n",
       "1           0.0          0.0     0.0                0.0             0.0   \n",
       "2           0.0          0.0     0.0                0.0             0.0   \n",
       "3           0.0          0.0     0.0                0.0             0.0   \n",
       "4           0.0          0.0     0.0                0.0             0.0   \n",
       "\n",
       "   Newspaper  Digital Advertisement  Through Recommendations  \\\n",
       "0        0.0                    0.0                      0.0   \n",
       "1        0.0                    0.0                      0.0   \n",
       "2        0.0                    0.0                      0.0   \n",
       "3        0.0                    0.0                      0.0   \n",
       "4        0.0                    0.0                      0.0   \n",
       "\n",
       "   a free copy of Mastering The Interview  \n",
       "0                                     0.0  \n",
       "1                                     0.0  \n",
       "2                                     1.0  \n",
       "3                                     0.0  \n",
       "4                                     0.0  "
      ]
     },
     "execution_count": 415,
     "metadata": {},
     "output_type": "execute_result"
    }
   ],
   "source": [
    "df[col_BooleanFeatures].head()"
   ]
  },
  {
   "cell_type": "markdown",
   "metadata": {},
   "source": [
    "## One-hot encoding"
   ]
  },
  {
   "cell_type": "code",
   "execution_count": 416,
   "metadata": {},
   "outputs": [
    {
     "data": {
      "text/html": [
       "<div>\n",
       "<style>\n",
       "    .dataframe thead tr:only-child th {\n",
       "        text-align: right;\n",
       "    }\n",
       "\n",
       "    .dataframe thead th {\n",
       "        text-align: left;\n",
       "    }\n",
       "\n",
       "    .dataframe tbody tr th {\n",
       "        vertical-align: top;\n",
       "    }\n",
       "</style>\n",
       "<table border=\"1\" class=\"dataframe\">\n",
       "  <thead>\n",
       "    <tr style=\"text-align: right;\">\n",
       "      <th></th>\n",
       "      <th>Lead Origin</th>\n",
       "      <th>Lead Stage</th>\n",
       "      <th>Last Notable Activity</th>\n",
       "    </tr>\n",
       "  </thead>\n",
       "  <tbody>\n",
       "    <tr>\n",
       "      <th>0</th>\n",
       "      <td>API</td>\n",
       "      <td>Not Interested</td>\n",
       "      <td>Modified</td>\n",
       "    </tr>\n",
       "    <tr>\n",
       "      <th>1</th>\n",
       "      <td>API</td>\n",
       "      <td>Unreachable</td>\n",
       "      <td>Email Opened</td>\n",
       "    </tr>\n",
       "    <tr>\n",
       "      <th>2</th>\n",
       "      <td>Landing Page Submission</td>\n",
       "      <td>Qualified</td>\n",
       "      <td>Email Opened</td>\n",
       "    </tr>\n",
       "    <tr>\n",
       "      <th>3</th>\n",
       "      <td>Landing Page Submission</td>\n",
       "      <td>Unreachable</td>\n",
       "      <td>Modified</td>\n",
       "    </tr>\n",
       "    <tr>\n",
       "      <th>4</th>\n",
       "      <td>Landing Page Submission</td>\n",
       "      <td>Qualified</td>\n",
       "      <td>Modified</td>\n",
       "    </tr>\n",
       "  </tbody>\n",
       "</table>\n",
       "</div>"
      ],
      "text/plain": [
       "               Lead Origin      Lead Stage Last Notable Activity\n",
       "0                      API  Not Interested              Modified\n",
       "1                      API     Unreachable          Email Opened\n",
       "2  Landing Page Submission       Qualified          Email Opened\n",
       "3  Landing Page Submission     Unreachable              Modified\n",
       "4  Landing Page Submission       Qualified              Modified"
      ]
     },
     "execution_count": 416,
     "metadata": {},
     "output_type": "execute_result"
    }
   ],
   "source": [
    "df[potentialOnehot].head()"
   ]
  },
  {
   "cell_type": "code",
   "execution_count": 417,
   "metadata": {},
   "outputs": [],
   "source": [
    "c=['Lead Origin','Last Notable Activity']\n",
    "dummies = pd.get_dummies(df[c])\n",
    "df[dummies.columns]=dummies\n",
    "df= df.drop(c,axis=1)\n"
   ]
  },
  {
   "cell_type": "code",
   "execution_count": 418,
   "metadata": {},
   "outputs": [
    {
     "data": {
      "text/plain": [
       "Index(['Company', 'Website', 'Job Title', 'Lead Source', 'Source Medium',\n",
       "       'Notes', 'Source Campaign', 'Source Content', 'Lead Grade',\n",
       "       'Last Activity', 'Last Activity Date', 'Related Landing Page Id',\n",
       "       'First Landing Page Submission Id',\n",
       "       'First Landing Page Submission Date', 'Lead Conversion Date', 'Cityold',\n",
       "       'State', 'Country', 'Course Interested', 'Specialization',\n",
       "       'Entrance Test', 'How did you hear about SomeSchool',\n",
       "       'What is your current occupation', 'If you are a working professional',\n",
       "       'If you are a working professional please mention ',\n",
       "       'What matters most to you in choosing an ADP', 'Age', 'Next Follow Up',\n",
       "       'Any other Please specify', 'Last Degree', 'Tags', 'Lead Quality',\n",
       "       'Chat Group', 'Lead Profile', 'City New', 'Country New', 'Industry New',\n",
       "       'Profile Score', 'Asymmetrique Activity Index',\n",
       "       'Asymmetrique Profile Index', 'ecode', 'eventname', 'Admission Date',\n",
       "       'Previous Stage', 'Number of Followup Calls',\n",
       "       'Asym how soon you can join program', 'Asymm Reason to take admission',\n",
       "       'Asymm Are you aware about SomeSchool College',\n",
       "       'Asymm Are you applying for any other form of MBA',\n",
       "       'Asym What is your expectation from this course',\n",
       "       'Asym How do you feel about taking admission',\n",
       "       'Asym What stopping you from joining course',\n",
       "       'Asym What are your concerns for taking admission',\n",
       "       'Asym preferences for selecting management course',\n",
       "       'What attracted you to consider SomeSchool ',\n",
       "       'you to consider SomeSchool ', 'Admission Constraints', 'Lead Type',\n",
       "       'Source Referrer', 'Last Visit Date'],\n",
       "      dtype='object')"
      ]
     },
     "execution_count": 418,
     "metadata": {},
     "output_type": "execute_result"
    }
   ],
   "source": [
    "df[col_problems].columns\n"
   ]
  },
  {
   "cell_type": "markdown",
   "metadata": {},
   "source": [
    "We still have to clean the columns  col_problems"
   ]
  },
  {
   "cell_type": "code",
   "execution_count": 419,
   "metadata": {},
   "outputs": [
    {
     "name": "stdout",
     "output_type": "stream",
     "text": [
      "Dr. Ram Manohar Lohia Avadh University /ugc\n",
      "vinod.shah1@gmail.com\n",
      "poona university\n",
      "mumbai university\n",
      "Yogeshsadarang@yahoo.in\n",
      "mumbai university\n",
      "duplicate lead\n",
      "mumbai university\n",
      "mumbai university\n",
      "mumbai university\n",
      "shobit university meerut\n",
      "vinoba bhave university\n",
      "robbinpandita100@gmail.com\n",
      "amity university\n",
      "vkaradkar@in.imshealth.com\n",
      "mumbai university\n",
      "rakshata.nikam@sharekhan.com\n",
      "smart.ashwin@yahoo.com\n",
      "N.A.\n",
      "nehamenon26@rediffmail.com\n",
      "mumbai university\n",
      "lateral student\n",
      "9909902397\n",
      "Looking for Friend Sanjay\n",
      "mumbai university\n",
      "sankpal1pooja@gmail.com\n",
      "mumbai university\n",
      "sndt university\n",
      "vidula2211@gmail.com\n",
      "manish.chand97@Yahoo.com\n",
      "mumbai university\n",
      "gorakhpur university\n",
      "duplicate lead\n",
      "For Daughter\n",
      "rombo@mai.com\n",
      "mumbai university\n",
      "sikkim manipal university\n",
      "lateral 2015\n",
      "ycmou\n",
      "north Maharashtra university\n",
      "west bengal university\n",
      "Approved by AICTE, Ministry of HRD, Government of India\n",
      "nidhisingh9029291638@gmail.com\n",
      "9823685110\n",
      "mumbai university\n",
      "9830854626\n",
      "mumbai university\n",
      "ycmou\n",
      "poona university\n",
      "poona university\n",
      "mumbai university\n",
      "poona university\n",
      "mumbai university\n",
      "anjalimeena5991@gmail.com\n",
      "snpnd45@gmail.com\n",
      "dhananjay_joshi2007@gmail.com\n",
      "mumbai university\n",
      "mumbai university\n",
      "University of Burdwan\n",
      "Here - Maps for life\n",
      "mumbai university\n",
      "Sri Venkateswara University\n",
      "Visvesvaraya Technological University\n",
      "BALAJI INSTITUTE OF MANAGEMENT AND HRD\n",
      "i have completed diploma in mechanical engg. with 14+ exp\n",
      "mumbai university\n",
      "sndt university\n",
      "mumbai university\n",
      "mumbai university\n",
      "lalitashetty210992@gmail.com\n",
      "mumbai university\n",
      "poona university\n",
      "mumbai university\n",
      "9833568988\n",
      "nagpur university\n",
      "sikkim manipal university\n",
      "Ff.pvt.ltd\n",
      "mumbai university\n",
      "mumbai university\n",
      "mumbai university\n",
      "mumbai university\n",
      "diploma in banking\n",
      "Isg\n",
      "8097070081\n",
      "Mumbai University and my DFM from SomeSchool 2001\n",
      "mumbai university\n",
      "brother is also coming for admission\n",
      "mumbai university\n",
      "mumbai university\n",
      "rudrakshi1791@gmail.com\n",
      "University of colombo in sri lanka\n",
      "mahatma gandhi university meghalaya\n",
      "amaravati university\n",
      "poona university\n",
      "muhs university\n",
      "zenith Rubber Industries\n",
      "mumbai university\n",
      "mumbai university\n",
      "Duplicate\n",
      "intergral university lucknow\n",
      "lateral admission\n",
      "symbiosis centre of distance lerning done PGDBA\n",
      "8308809680\n",
      "poona university\n",
      "mumbai university\n",
      "kkpranay@gmail.com\n",
      "sheeri230@hotmail.com\n",
      "drvrundagb@gmail.com\n",
      "sudarshan.mishra@dizsupportad.com\n",
      "mumbai university\n",
      "shashankj1291@gmail.com\n",
      "mumbai university\n",
      "kolhapur\n",
      "madras university\n",
      "8655762979\n",
      "ex student roshan reference\n",
      "poona university\n",
      "Uka Tarsadia University, Bardoli ugc recognised\n",
      "Diploma in banking\n",
      "mumbai university\n",
      "mumbai university\n",
      "sndt university\n",
      "971-502543984\n",
      "hildabarretto2015@gmail.com\n",
      "hepsi.cfy@gmail.com\n",
      "Sabhjit8182@rediffmail.com\n",
      "gaurav.kataria@ericsson.com\n",
      "Tirthasathe@gmail.com\n",
      "ansaribushra93@gmail.com\n",
      "mumbai university\n",
      "fenilshah110@gmail.com\n",
      "/ 8898032843\n",
      "040-30413659\n",
      "Duplicate\n",
      "Duplicate\n",
      "reference from vinita katvate\n",
      "bodass@rbos.co.uk\n",
      "M.A ( Osmania University), B.Ed ( Osmania University) & M.Phil ( MKU, Madurai).\n",
      "mumbai university\n",
      "8090033313\n",
      "mumbai university\n",
      "mumbai university\n",
      "shilpanagalkar01@gmail.com\n",
      "mumbai university\n",
      "mumbai university\n",
      "vrushali.patil04@balic.in\n",
      "CA inter complete waiver of two subjects\n",
      "meena.singh@relianceada.com\n",
      "sandeep.shukla4@vodafone.com\n",
      "7767948300\n",
      "Duplicate\n",
      "7599026787\n",
      "9930021604\n",
      "842580723\n",
      "rawoolchinmay@gmail.com\n",
      "mumbai university\n",
      "mumbai university\n",
      "bunty@soundlinesgroup.com\n",
      "mumbai university\n",
      "8796906673\n",
      "B. S. Abdur Rahman University approved by the All India Council of Technical Education a\n",
      "mumbai university\n",
      "vikas.shinde@disney.com\n",
      "gaurav.devadiga@axisbank.com\n",
      "Vinayak mission\n",
      "anamika.savita@gmail.com\n",
      "ycmou bcom\n",
      "mumbai university\n",
      "akashvyas27894@gmail.com\n",
      "Madhurai kamraj university\n",
      "mumbai university\n",
      "tganesh13@gmail.com ( Father )\n",
      "mumbai university\n",
      "mumbai university\n",
      "Narendra Deo University of Agriculture & Technology, Narendra Nagar, Faizabad-224 229, UttarPradesh.\n",
      "Delhi university\n",
      "CSVTU Chattisgarh\n",
      "mumbai university\n",
      "diploma in banking\n",
      "yashwantrao\n",
      "yashwantrao chavan\n",
      "Magadh University\n",
      "mumbai university\n",
      "mumbai university\n",
      "B.Com from ahmedabad, gujarat university / PGDBA from university of Wales, UK.\n",
      "Vodafone india pvt ltd\n",
      "duplicate lead\n",
      "gujarat university\n",
      "mumbai university\n",
      "mumbai university\n",
      "mumbai university\n",
      "mumbai university\n",
      "anisha.j@mahanagargas.com\n",
      "mumbai university\n",
      "Dr. B.R. Ambedkar University\n",
      "Utrakhand university , BE in computers\n",
      "mumbai university\n",
      "bundalkhand university\n",
      "CA / mumbai university\n",
      "BE Mechanical from shivaji university\n",
      "mumbai university\n",
      "yashwantrao / kolhapur\n",
      "pune university\n",
      "mumbai university\n",
      "vrk_kamat@rediffmail.com\n",
      "mumbai university\n",
      "mumbai university\n",
      "diploma in banking\n",
      "Mumbai university appeared bms\n",
      "mumbai university\n",
      "rajiv gandhi university\n",
      "University of Pune\n",
      "ashok jain is her father who enquired\n",
      "mumbai university\n",
      "mumbai university\n",
      "bangalore university in 1999\n",
      "mumbai university\n",
      "mumbai university\n",
      "MGU / awaiting result\n",
      "lateral student / mumbai university\n",
      "mumbai university\n",
      "mumbai university\n",
      "mumbai university\n",
      "dipesh.chheda@navneet.com\n",
      "andhra university\n",
      "Maharaja Ganga Singh University / ugc\n",
      "mumbai university\n",
      "mumbai university\n",
      "Maharashtra University of Health Sciences\n",
      "duplicate lead\n",
      "Pune university\n",
      "shant.dharam@gmail.com\n",
      "8462003497\n",
      "suchi1555@gmail.com\n",
      "HDFC securties\n",
      "ich shri shakti\n",
      "mumbai university\n",
      "mumbai university\n",
      "8108055516 / mumbai university\n",
      "9832510778\n",
      "9930728577 / duplicate lead\n",
      "Biju Patnaik University of Technology\n",
      "mumbai university\n",
      "Punjab Technical University\n",
      "duplicate lead\n",
      "Honeywell Automation India Private Limited\n",
      "duplicate lead\n",
      "mumbai university\n",
      "Maharaja Ganga Singh University / UGC\n",
      "october batch\n",
      "mumbai university\n",
      "mumbai university / night school\n",
      "mumbai university\n",
      "jain university /deemed university under the UGC Act,1956[\n",
      "mumbai university\n",
      "mumbai university\n",
      "mumbai university\n",
      "Brother of Sonal Shah 7506087583\n",
      "mumbai university\n",
      "Duplicate lead\n",
      "mukeshchanda@gmail.com\n",
      "mumbai university\n",
      "lateral madhuraj kamraj university\n",
      "diploma holder\n",
      "Graduation from Solapur university\n",
      "Rani Durgavati University / UGC\n",
      "duplicate lead\n",
      "jasrajb34@gmail.com\n",
      "9920086721\n",
      "Pune university\n",
      "mumbai university\n",
      "9634216295\n",
      "parth Raval \t9702230678\n",
      "gavaiakshay666@gmail.com\n",
      "Himanshu kishor\n",
      "9721857039\n",
      "mumbai university\n",
      "MBA done\n",
      "diploma in mechanical engg and BMS and having work experience of 4.5 years\n",
      "E Clinical Work\n",
      "E Clinical Work\n",
      "mumbai university\n",
      "E Clinical Work\n",
      "E Clinical Work\n",
      "nagpur university / October batch\n",
      "E Clinical Work\n",
      "E Clinical Work\n",
      "E Clinical Work\n",
      "E Clinical Work\n",
      "E Clinical Work\n",
      "E Clinical Work\n",
      "E Clinical Work\n",
      "E Clinical Work\n",
      "E Clinical Work\n",
      "E Clinical Work\n",
      "8828432104\n",
      "mumbai university\n",
      "mumbai university\n",
      "husband also will take admisison\n",
      "mumbai university\n",
      "Social Kinnect\n",
      "swami ramanand  teerth marathwada unversity\n",
      "mumbai university\n",
      "Diploma holder only\n",
      "mumbai university\n",
      "3 years diploma holder\n",
      "Kumar Metals\n",
      "MAhararashtra hybrid Seeds Co. Ltd\n",
      "9619861420\n",
      "9022243743\n",
      "Graduate from mumbai university\n",
      "mumbai university\n",
      "mumbai university\n",
      "krunal.mehta@ocwen.com\n",
      "shubham.jain1@maxlifeinsurance.com\n",
      "Looking for Brother his Deep Trivedi\n",
      "Looking OCT batch only\n",
      "poona university\n"
     ]
    }
   ],
   "source": [
    "i='Company'\n",
    "#df[i]\n",
    "#np.unique(df[i]).shape[0]  \n",
    "for x in df[i]:\n",
    "    try:\n",
    "        np.isnan(x)\n",
    "    except:\n",
    "        print(x)"
   ]
  },
  {
   "cell_type": "markdown",
   "metadata": {},
   "source": [
    "# Missing Data"
   ]
  },
  {
   "cell_type": "markdown",
   "metadata": {},
   "source": [
    "It seems, there are a lot of missing values. Let us check the amount of `NaN`, both column-wise and row-wise."
   ]
  },
  {
   "cell_type": "markdown",
   "metadata": {},
   "source": [
    "We first need to convert all the elements into values."
   ]
  },
  {
   "cell_type": "code",
   "execution_count": 420,
   "metadata": {},
   "outputs": [
    {
     "data": {
      "text/plain": [
       "array([[nan, nan, nan, ..., 0, 0, 0],\n",
       "       [nan, nan, nan, ..., 0, 0, 0],\n",
       "       [nan, nan, nan, ..., 0, 0, 0],\n",
       "       ..., \n",
       "       [nan, nan, nan, ..., 0, 0, 0],\n",
       "       [nan, nan, nan, ..., 0, 0, 0],\n",
       "       [nan, nan, nan, ..., 0, 0, 0]], dtype=object)"
      ]
     },
     "execution_count": 420,
     "metadata": {},
     "output_type": "execute_result"
    }
   ],
   "source": [
    "df.values"
   ]
  },
  {
   "cell_type": "code",
   "execution_count": 421,
   "metadata": {},
   "outputs": [
    {
     "ename": "TypeError",
     "evalue": "ufunc 'isnan' not supported for the input types, and the inputs could not be safely coerced to any supported types according to the casting rule ''safe''",
     "output_type": "error",
     "traceback": [
      "\u001b[0;31m---------------------------------------------------------------------------\u001b[0m",
      "\u001b[0;31mTypeError\u001b[0m                                 Traceback (most recent call last)",
      "\u001b[0;32m<ipython-input-421-7c9952a9d7b3>\u001b[0m in \u001b[0;36m<module>\u001b[0;34m()\u001b[0m\n\u001b[1;32m      6\u001b[0m \u001b[0mfig\u001b[0m \u001b[0;34m=\u001b[0m \u001b[0mplt\u001b[0m\u001b[0;34m.\u001b[0m\u001b[0mfigure\u001b[0m\u001b[0;34m(\u001b[0m\u001b[0;34m)\u001b[0m\u001b[0;34m\u001b[0m\u001b[0m\n\u001b[1;32m      7\u001b[0m \u001b[0msf1\u001b[0m \u001b[0;34m=\u001b[0m \u001b[0mplt\u001b[0m\u001b[0;34m.\u001b[0m\u001b[0msubplot\u001b[0m\u001b[0;34m(\u001b[0m\u001b[0;36m1\u001b[0m\u001b[0;34m,\u001b[0m\u001b[0;36m2\u001b[0m\u001b[0;34m,\u001b[0m\u001b[0;36m1\u001b[0m\u001b[0;34m)\u001b[0m\u001b[0;34m\u001b[0m\u001b[0m\n\u001b[0;32m----> 8\u001b[0;31m \u001b[0myear_nan\u001b[0m \u001b[0;34m=\u001b[0m \u001b[0mnp\u001b[0m\u001b[0;34m.\u001b[0m\u001b[0msum\u001b[0m\u001b[0;34m(\u001b[0m\u001b[0mnp\u001b[0m\u001b[0;34m.\u001b[0m\u001b[0mwhere\u001b[0m\u001b[0;34m(\u001b[0m\u001b[0mnp\u001b[0m\u001b[0;34m.\u001b[0m\u001b[0misnan\u001b[0m\u001b[0;34m(\u001b[0m\u001b[0mv\u001b[0m\u001b[0;34m)\u001b[0m\u001b[0;34m,\u001b[0m\u001b[0;36m1.\u001b[0m\u001b[0;34m,\u001b[0m\u001b[0;36m0.\u001b[0m\u001b[0;34m)\u001b[0m\u001b[0;34m,\u001b[0m\u001b[0maxis\u001b[0m\u001b[0;34m=\u001b[0m\u001b[0;36m0\u001b[0m\u001b[0;34m)\u001b[0m\u001b[0;34m\u001b[0m\u001b[0m\n\u001b[0m\u001b[1;32m      9\u001b[0m \u001b[0mplt\u001b[0m\u001b[0;34m.\u001b[0m\u001b[0mbar\u001b[0m\u001b[0;34m(\u001b[0m\u001b[0mnp\u001b[0m\u001b[0;34m.\u001b[0m\u001b[0marray\u001b[0m\u001b[0;34m(\u001b[0m\u001b[0mrange\u001b[0m\u001b[0;34m(\u001b[0m\u001b[0myear_nan\u001b[0m\u001b[0;34m.\u001b[0m\u001b[0mshape\u001b[0m\u001b[0;34m[\u001b[0m\u001b[0;36m0\u001b[0m\u001b[0;34m]\u001b[0m\u001b[0;34m)\u001b[0m\u001b[0;34m)\u001b[0m\u001b[0;34m,\u001b[0m\u001b[0myear_nan\u001b[0m\u001b[0;34m)\u001b[0m\u001b[0;34m\u001b[0m\u001b[0m\n\u001b[1;32m     10\u001b[0m \u001b[0mplt\u001b[0m\u001b[0;34m.\u001b[0m\u001b[0msubplot\u001b[0m\u001b[0;34m(\u001b[0m\u001b[0;36m1\u001b[0m\u001b[0;34m,\u001b[0m\u001b[0;36m2\u001b[0m\u001b[0;34m,\u001b[0m\u001b[0;36m2\u001b[0m\u001b[0;34m)\u001b[0m\u001b[0;34m\u001b[0m\u001b[0m\n",
      "\u001b[0;31mTypeError\u001b[0m: ufunc 'isnan' not supported for the input types, and the inputs could not be safely coerced to any supported types according to the casting rule ''safe''"
     ]
    },
    {
     "data": {
      "image/png": "[encoded data removed]",
      "text/plain": [
       "<matplotlib.figure.Figure at 0x7f6617949160>"
      ]
     },
     "metadata": {},
     "output_type": "display_data"
    }
   ],
   "source": [
    "%matplotlib inline\n",
    "import matplotlib.pyplot as plt\n",
    "\n",
    "v=np.array(df.values)\n",
    "\n",
    "fig = plt.figure()\n",
    "sf1 = plt.subplot(1,2,1)\n",
    "year_nan = np.sum(np.where(np.isnan(v),1.,0.),axis=0)\n",
    "plt.bar(np.array(range(year_nan.shape[0])),year_nan)\n",
    "plt.subplot(1,2,2)\n",
    "concept_nan = np.sum(np.where(np.isnan(v),1.,0.),axis=1)\n",
    "plt.bar(np.array(range(concept_nan.shape[0])),concept_nan)\n",
    "\n",
    "fig.set_size_inches((12,4))"
   ]
  },
  {
   "cell_type": "markdown",
   "metadata": {},
   "source": [
    "## Spliting the Data Set"
   ]
  },
  {
   "cell_type": "markdown",
   "metadata": {},
   "source": [
    "Let us deal with the feature we want to predict \"Lead Stage\"."
   ]
  },
  {
   "cell_type": "code",
   "execution_count": 422,
   "metadata": {
    "scrolled": true
   },
   "outputs": [
    {
     "name": "stdout",
     "output_type": "stream",
     "text": [
      "(9240,)\n",
      "(9240, 116)\n"
     ]
    }
   ],
   "source": [
    "#df=pd.read_csv(path,encoding='cp1252')\n",
    "y=df['Lead Stage']\n",
    "df=df.drop('Lead Stage',axis=1)\n",
    "print(y.shape)\n",
    "print(df.shape)\n"
   ]
  },
  {
   "cell_type": "code",
   "execution_count": 423,
   "metadata": {},
   "outputs": [
    {
     "name": "stdout",
     "output_type": "stream",
     "text": [
      "There are 9 unique values for this feature.\n",
      "['Closed' 'Interested' 'Junk Lead' 'Lost' 'Not Called' 'Not Eligible'\n",
      " 'Not Interested' 'Qualified' 'Unreachable']\n"
     ]
    }
   ],
   "source": [
    "print ('There are ' +str(np.unique(y).shape[0]) +' unique values for this feature.')\n",
    "print(np.unique(y))"
   ]
  },
  {
   "cell_type": "markdown",
   "metadata": {},
   "source": [
    "Our model will have only 3 possibles outcomes: Closed, Interested and not interested. We will use the values 2,1,0 to represent it.\n",
    "\n",
    "In our DataSet we also have Junk Lead and Lost values which are not interesing outcomes."
   ]
  },
  {
   "cell_type": "markdown",
   "metadata": {},
   "source": [
    "Debat: Intentar predir altres outcomes o simplement eliminar aquesta part de les dades?"
   ]
  },
  {
   "cell_type": "code",
   "execution_count": 424,
   "metadata": {},
   "outputs": [
    {
     "name": "stdout",
     "output_type": "stream",
     "text": [
      "29.0 1686.0 293.0 9.0\n"
     ]
    }
   ],
   "source": [
    "sum_lost= sum(np.where(y=='Lost',1.,0.))\n",
    "sum_junk=sum(np.where(y=='Junk Lead',1.,0.))\n",
    "sum_elige=sum(np.where(y=='Not Eligible',1.,0.))\n",
    "sum_called=sum(np.where(y=='Not Called',1.,0.))\n",
    "print(sum_lost,sum_junk,sum_elige,sum_called)"
   ]
  },
  {
   "cell_type": "markdown",
   "metadata": {},
   "source": [
    "Apparently we can get read of Lost  and Not Called(there is a small portion of it) but  we should think what to do with Junk.\n",
    "\n",
    "Here there isa proposal of what to do:"
   ]
  },
  {
   "cell_type": "code",
   "execution_count": 425,
   "metadata": {},
   "outputs": [
    {
     "name": "stderr",
     "output_type": "stream",
     "text": [
      "/home/arnau/anaconda3/lib/python3.6/site-packages/ipykernel_launcher.py:12: SettingWithCopyWarning: \n",
      "A value is trying to be set on a copy of a slice from a DataFrame\n",
      "\n",
      "See the caveats in the documentation: http://pandas.pydata.org/pandas-docs/stable/indexing.html#indexing-view-versus-copy\n",
      "  if sys.path[0] == '':\n",
      "/home/arnau/anaconda3/lib/python3.6/site-packages/ipykernel_launcher.py:10: SettingWithCopyWarning: \n",
      "A value is trying to be set on a copy of a slice from a DataFrame\n",
      "\n",
      "See the caveats in the documentation: http://pandas.pydata.org/pandas-docs/stable/indexing.html#indexing-view-versus-copy\n",
      "  # Remove the CWD from sys.path while we load stuff.\n"
     ]
    }
   ],
   "source": [
    "i=0\n",
    "\n",
    "for x in y:\n",
    "    if(x=='Lost' or x=='Junk Lead' or x=='Not Called' or x=='Not eligible'):\n",
    "        y=y.drop(i,axis=0)\n",
    "        df=df.drop(i,axis=0)\n",
    "    if(x=='Closed'):\n",
    "        y[i]=2\n",
    "    if(x=='Interested' or x=='Qualified' ):\n",
    "        y[i]=1\n",
    "    if(x=='Not Interested' or x== 'Unreachable'):\n",
    "        y[i]=0\n",
    "    i+=1\n"
   ]
  },
  {
   "cell_type": "code",
   "execution_count": 428,
   "metadata": {},
   "outputs": [
    {
     "name": "stdout",
     "output_type": "stream",
     "text": [
      "7516\n",
      "(7516, 116)\n"
     ]
    }
   ],
   "source": [
    "print(len(y))\n",
    "y.head()\n",
    "print(df.shape)"
   ]
  },
  {
   "cell_type": "code",
   "execution_count": 429,
   "metadata": {},
   "outputs": [],
   "source": [
    "from sklearn import model_selection\n",
    "\n",
    "\n",
    "X_train,X_test,y_train,y_test = model_selection.train_test_split(df.values,y,train_size=0.75,random_state=42)"
   ]
  },
  {
   "cell_type": "code",
   "execution_count": null,
   "metadata": {
    "collapsed": true
   },
   "outputs": [],
   "source": []
  }
 ],
 "metadata": {
  "kernelspec": {
   "display_name": "Python 3",
   "language": "python",
   "name": "python3"
  },
  "language_info": {
   "codemirror_mode": {
    "name": "ipython",
    "version": 3
   },
   "file_extension": ".py",
   "mimetype": "text/x-python",
   "name": "python",
   "nbconvert_exporter": "python",
   "pygments_lexer": "ipython3",
   "version": "3.6.1"
  }
 },
 "nbformat": 4,
 "nbformat_minor": 2
}
