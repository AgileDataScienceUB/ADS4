{
 "cells": [
  {
   "cell_type": "code",
   "execution_count": 6,
   "metadata": {},
   "outputs": [],
   "source": [
    "import sys\n",
    "sys.path.append('./utils/')\n",
    "\n",
    "import pandas as pd\n",
    "import numpy as np\n",
    "\n",
    "from basic_utils import print_full\n",
    "from ml_utils import get_metrics\n",
    "from pandoras_box import create_predictor, get_prediction"
   ]
  },
  {
   "cell_type": "markdown",
   "metadata": {},
   "source": [
    "# Dataset selection"
   ]
  },
  {
   "cell_type": "code",
   "execution_count": 7,
   "metadata": {
    "collapsed": true
   },
   "outputs": [],
   "source": [
    "# Datset 1\n",
    "a1 = 'MFG10YearTerminationData_train.csv'\n",
    "a2 = 'MFG10YearTerminationData_test.csv'\n",
    "\n",
    "# Datset 2\n",
    "b1 = 'WA_Fn-UseC_-HR-Employee-Attrition_train.csv'\n",
    "b2 = 'WA_Fn-UseC_-HR-Employee-Attrition_test.csv'\n",
    "\n",
    "# (VERY) simple dataset\n",
    "c = 'simple_dataset.csv'\n",
    "\n",
    "file_name = a1"
   ]
  },
  {
   "cell_type": "markdown",
   "metadata": {},
   "source": [
    "Let us have a first look at the dataset..."
   ]
  },
  {
   "cell_type": "code",
   "execution_count": 8,
   "metadata": {},
   "outputs": [
    {
     "data": {
      "text/html": [
       "<div>\n",
       "<style scoped>\n",
       "    .dataframe tbody tr th:only-of-type {\n",
       "        vertical-align: middle;\n",
       "    }\n",
       "\n",
       "    .dataframe tbody tr th {\n",
       "        vertical-align: top;\n",
       "    }\n",
       "\n",
       "    .dataframe thead th {\n",
       "        text-align: right;\n",
       "    }\n",
       "</style>\n",
       "<table border=\"1\" class=\"dataframe\">\n",
       "  <thead>\n",
       "    <tr style=\"text-align: right;\">\n",
       "      <th></th>\n",
       "      <th>EmployeeID</th>\n",
       "      <th>recorddate_key</th>\n",
       "      <th>birthdate_key</th>\n",
       "      <th>orighiredate_key</th>\n",
       "      <th>terminationdate_key</th>\n",
       "      <th>age</th>\n",
       "      <th>length_of_service</th>\n",
       "      <th>city_name</th>\n",
       "      <th>department_name</th>\n",
       "      <th>job_title</th>\n",
       "      <th>store_name</th>\n",
       "      <th>gender_short</th>\n",
       "      <th>gender_full</th>\n",
       "      <th>termreason_desc</th>\n",
       "      <th>termtype_desc</th>\n",
       "      <th>STATUS_YEAR</th>\n",
       "      <th>STATUS</th>\n",
       "      <th>BUSINESS_UNIT</th>\n",
       "      <th>record_id</th>\n",
       "    </tr>\n",
       "  </thead>\n",
       "  <tbody>\n",
       "    <tr>\n",
       "      <th>0</th>\n",
       "      <td>2304</td>\n",
       "      <td>2006-01-01</td>\n",
       "      <td>1941-01-15 00:00:00</td>\n",
       "      <td>1992-07-22</td>\n",
       "      <td>2006-01-15</td>\n",
       "      <td>65.0</td>\n",
       "      <td>13</td>\n",
       "      <td>Vernon</td>\n",
       "      <td>Meats</td>\n",
       "      <td>Meat Cutter</td>\n",
       "      <td>36</td>\n",
       "      <td>F</td>\n",
       "      <td>Female</td>\n",
       "      <td>Retirement</td>\n",
       "      <td>Voluntary</td>\n",
       "      <td>2006</td>\n",
       "      <td>TERMINATED</td>\n",
       "      <td>STORES</td>\n",
       "      <td>0</td>\n",
       "    </tr>\n",
       "    <tr>\n",
       "      <th>1</th>\n",
       "      <td>4118</td>\n",
       "      <td>2006-01-01</td>\n",
       "      <td>1946-01-23 00:00:00</td>\n",
       "      <td>1997-07-31</td>\n",
       "      <td>2006-01-23</td>\n",
       "      <td>60.0</td>\n",
       "      <td>8</td>\n",
       "      <td>Vancouver</td>\n",
       "      <td>Meats</td>\n",
       "      <td>Meat Cutter</td>\n",
       "      <td>35</td>\n",
       "      <td>M</td>\n",
       "      <td>Male</td>\n",
       "      <td>Retirement</td>\n",
       "      <td>Voluntary</td>\n",
       "      <td>2006</td>\n",
       "      <td>TERMINATED</td>\n",
       "      <td>STORES</td>\n",
       "      <td>1</td>\n",
       "    </tr>\n",
       "    <tr>\n",
       "      <th>2</th>\n",
       "      <td>2303</td>\n",
       "      <td>2006-01-01</td>\n",
       "      <td>1941-01-15 00:00:00</td>\n",
       "      <td>1992-07-22</td>\n",
       "      <td>2006-01-15</td>\n",
       "      <td>65.0</td>\n",
       "      <td>13</td>\n",
       "      <td>New Westminster</td>\n",
       "      <td>Meats</td>\n",
       "      <td>Meat Cutter</td>\n",
       "      <td>21</td>\n",
       "      <td>F</td>\n",
       "      <td>Female</td>\n",
       "      <td>Retirement</td>\n",
       "      <td>Voluntary</td>\n",
       "      <td>2006</td>\n",
       "      <td>TERMINATED</td>\n",
       "      <td>STORES</td>\n",
       "      <td>2</td>\n",
       "    </tr>\n",
       "    <tr>\n",
       "      <th>...</th>\n",
       "      <td>...</td>\n",
       "      <td>...</td>\n",
       "      <td>...</td>\n",
       "      <td>...</td>\n",
       "      <td>...</td>\n",
       "      <td>...</td>\n",
       "      <td>...</td>\n",
       "      <td>...</td>\n",
       "      <td>...</td>\n",
       "      <td>...</td>\n",
       "      <td>...</td>\n",
       "      <td>...</td>\n",
       "      <td>...</td>\n",
       "      <td>...</td>\n",
       "      <td>...</td>\n",
       "      <td>...</td>\n",
       "      <td>...</td>\n",
       "      <td>...</td>\n",
       "      <td>...</td>\n",
       "    </tr>\n",
       "    <tr>\n",
       "      <th>44689</th>\n",
       "      <td>3967</td>\n",
       "      <td>2014-12-31</td>\n",
       "      <td>1963-03-06 00:00:00</td>\n",
       "      <td>1997-02-20</td>\n",
       "      <td>1900-01-01</td>\n",
       "      <td>51.0</td>\n",
       "      <td>17</td>\n",
       "      <td>Cranbrook</td>\n",
       "      <td>Produce</td>\n",
       "      <td>Produce Clerk</td>\n",
       "      <td>8</td>\n",
       "      <td>F</td>\n",
       "      <td>Female</td>\n",
       "      <td>Not Applicable</td>\n",
       "      <td>Not Applicable</td>\n",
       "      <td>2014</td>\n",
       "      <td>ACTIVE</td>\n",
       "      <td>STORES</td>\n",
       "      <td>41379</td>\n",
       "    </tr>\n",
       "    <tr>\n",
       "      <th>44690</th>\n",
       "      <td>3950</td>\n",
       "      <td>2014-12-31</td>\n",
       "      <td>1963-01-22 00:00:00</td>\n",
       "      <td>1997-01-29</td>\n",
       "      <td>1900-01-01</td>\n",
       "      <td>51.0</td>\n",
       "      <td>17</td>\n",
       "      <td>Nelson</td>\n",
       "      <td>Meats</td>\n",
       "      <td>Meat Cutter</td>\n",
       "      <td>19</td>\n",
       "      <td>F</td>\n",
       "      <td>Female</td>\n",
       "      <td>Not Applicable</td>\n",
       "      <td>Not Applicable</td>\n",
       "      <td>2014</td>\n",
       "      <td>ACTIVE</td>\n",
       "      <td>STORES</td>\n",
       "      <td>41378</td>\n",
       "    </tr>\n",
       "    <tr>\n",
       "      <th>44691</th>\n",
       "      <td>7587</td>\n",
       "      <td>2014-12-31</td>\n",
       "      <td>1989-03-19 00:00:00</td>\n",
       "      <td>2010-11-21</td>\n",
       "      <td>1900-01-01</td>\n",
       "      <td>25.0</td>\n",
       "      <td>4</td>\n",
       "      <td>Trail</td>\n",
       "      <td>Customer Service</td>\n",
       "      <td>Cashier</td>\n",
       "      <td>33</td>\n",
       "      <td>M</td>\n",
       "      <td>Male</td>\n",
       "      <td>Not Applicable</td>\n",
       "      <td>Not Applicable</td>\n",
       "      <td>2014</td>\n",
       "      <td>ACTIVE</td>\n",
       "      <td>STORES</td>\n",
       "      <td>41385</td>\n",
       "    </tr>\n",
       "  </tbody>\n",
       "</table>\n",
       "<p>44692 rows × 19 columns</p>\n",
       "</div>"
      ],
      "text/plain": [
       "       EmployeeID recorddate_key        birthdate_key orighiredate_key  \\\n",
       "0            2304     2006-01-01  1941-01-15 00:00:00       1992-07-22   \n",
       "1            4118     2006-01-01  1946-01-23 00:00:00       1997-07-31   \n",
       "2            2303     2006-01-01  1941-01-15 00:00:00       1992-07-22   \n",
       "...           ...            ...                  ...              ...   \n",
       "44689        3967     2014-12-31  1963-03-06 00:00:00       1997-02-20   \n",
       "44690        3950     2014-12-31  1963-01-22 00:00:00       1997-01-29   \n",
       "44691        7587     2014-12-31  1989-03-19 00:00:00       2010-11-21   \n",
       "\n",
       "      terminationdate_key   age  length_of_service        city_name  \\\n",
       "0              2006-01-15  65.0                 13           Vernon   \n",
       "1              2006-01-23  60.0                  8        Vancouver   \n",
       "2              2006-01-15  65.0                 13  New Westminster   \n",
       "...                   ...   ...                ...              ...   \n",
       "44689          1900-01-01  51.0                 17        Cranbrook   \n",
       "44690          1900-01-01  51.0                 17           Nelson   \n",
       "44691          1900-01-01  25.0                  4            Trail   \n",
       "\n",
       "        department_name      job_title  store_name gender_short gender_full  \\\n",
       "0                 Meats    Meat Cutter          36            F      Female   \n",
       "1                 Meats    Meat Cutter          35            M        Male   \n",
       "2                 Meats    Meat Cutter          21            F      Female   \n",
       "...                 ...            ...         ...          ...         ...   \n",
       "44689           Produce  Produce Clerk           8            F      Female   \n",
       "44690             Meats    Meat Cutter          19            F      Female   \n",
       "44691  Customer Service        Cashier          33            M        Male   \n",
       "\n",
       "      termreason_desc   termtype_desc  STATUS_YEAR      STATUS BUSINESS_UNIT  \\\n",
       "0          Retirement       Voluntary         2006  TERMINATED        STORES   \n",
       "1          Retirement       Voluntary         2006  TERMINATED        STORES   \n",
       "2          Retirement       Voluntary         2006  TERMINATED        STORES   \n",
       "...               ...             ...          ...         ...           ...   \n",
       "44689  Not Applicable  Not Applicable         2014      ACTIVE        STORES   \n",
       "44690  Not Applicable  Not Applicable         2014      ACTIVE        STORES   \n",
       "44691  Not Applicable  Not Applicable         2014      ACTIVE        STORES   \n",
       "\n",
       "       record_id  \n",
       "0              0  \n",
       "1              1  \n",
       "2              2  \n",
       "...          ...  \n",
       "44689      41379  \n",
       "44690      41378  \n",
       "44691      41385  \n",
       "\n",
       "[44692 rows x 19 columns]"
      ]
     },
     "metadata": {},
     "output_type": "display_data"
    }
   ],
   "source": [
    "print_full(pd.read_csv('./data_sets/' + file_name), n=6)"
   ]
  },
  {
   "cell_type": "markdown",
   "metadata": {},
   "source": [
    "# Feature mapping\n",
    "## a) MFG10YearTerminationData mapping"
   ]
  },
  {
   "cell_type": "code",
   "execution_count": 9,
   "metadata": {
    "collapsed": true
   },
   "outputs": [],
   "source": [
    "# IDs\n",
    "employee_id = 'EmployeeID'\n",
    "record_id = 'record_id'\n",
    "\n",
    "# Dates\n",
    "hire_date = 'orighiredate_key'\n",
    "record_date = 'recorddate_key'\n",
    "termination_date = 'terminationdate_key'\n",
    "\n",
    "length_of_service = 'length_of_service'\n",
    "\n",
    "# Age / birthday\n",
    "age = 'age'\n",
    "birth_date = 'birthdate_key'\n",
    "birth_year = None\n",
    "\n",
    "# Target\n",
    "target = 'STATUS'\n",
    "\n",
    "other_target_fields = ['termreason_desc', 'termtype_desc'] + [target]\n",
    "\n",
    "# Others\n",
    "job_title = 'job_title'\n",
    "\n",
    "# Special field types\n",
    "special_field_types = {\n",
    "    'store_name': str\n",
    "}"
   ]
  },
  {
   "cell_type": "markdown",
   "metadata": {},
   "source": [
    "# Pandora's Box"
   ]
  },
  {
   "cell_type": "markdown",
   "metadata": {},
   "source": [
    "## Create predictor"
   ]
  },
  {
   "cell_type": "code",
   "execution_count": 10,
   "metadata": {
    "scrolled": false
   },
   "outputs": [
    {
     "name": "stdout",
     "output_type": "stream",
     "text": [
      "(!) Job title enrichment has been performed.\n",
      "\n",
      "(!) Length of service enrichment has been performed.\n",
      "\n",
      "(!) Birth year enrichment has been performed.\n",
      "\n",
      "(!) Generation enrichment has been performed.\n",
      "\n",
      "Feature selection algorithm\n",
      "--------------------------------------------------------------------------------\n",
      "+ age (ROC AUC score inc = 54.50%)\n",
      "+ generation (ROC AUC score inc = 6.35%)\n",
      "+ length_of_service (ROC AUC score inc = 0.19%)\n",
      "+ STATUS_YEAR (ROC AUC score inc = 5.73%)\n",
      "+ gender_short (ROC AUC score inc = 1.07%)\n",
      "+ birth_year (ROC AUC score inc = 0.77%)\n",
      "+ BUSINESS_UNIT (ROC AUC score inc = 0.40%)\n",
      "+ city_name (ROC AUC score inc = 0.16%)\n",
      "store_name has been excluded (ROC AUC score inc = 0.03%)\n",
      "Feature selection is over.\n",
      "--------------------------------------------------------------------------------\n"
     ]
    },
    {
     "data": {
      "text/plain": [
       "{'accuracy': 0.971697057836447,\n",
       " 'log_loss': 0.12708278988400162,\n",
       " 'roc_auc': 0.63999493983776534}"
      ]
     },
     "execution_count": 10,
     "metadata": {},
     "output_type": "execute_result"
    }
   ],
   "source": [
    "selected_feats, woe_dicts, clf, scaler, valid_metrics = create_predictor(\n",
    "    './data_sets/' + file_name, target,\n",
    "    employee_id=employee_id,\n",
    "    record_id=record_id,\n",
    "    hire_date=hire_date,\n",
    "    record_date=record_date,\n",
    "    termination_date=termination_date,\n",
    "    length_of_service=length_of_service,\n",
    "    age=age,\n",
    "    birth_date=birth_date,\n",
    "    birth_year=birth_year,\n",
    "    other_target_fields=other_target_fields,\n",
    "    job_title=job_title,\n",
    "    special_field_types=special_field_types)\n",
    "\n",
    "valid_metrics"
   ]
  },
  {
   "cell_type": "markdown",
   "metadata": {},
   "source": [
    "## Get prediction"
   ]
  },
  {
   "cell_type": "code",
   "execution_count": 13,
   "metadata": {},
   "outputs": [
    {
     "name": "stdout",
     "output_type": "stream",
     "text": [
      "(!) Job title enrichment has been performed.\n",
      "\n",
      "(!) Length of service enrichment has been performed.\n",
      "\n",
      "(!) Birth year enrichment has been performed.\n",
      "\n",
      "(!) Generation enrichment has been performed.\n",
      "\n"
     ]
    }
   ],
   "source": [
    "score, y_hat, df = get_prediction(\n",
    "    './data_sets/' + a2, selected_feats, woe_dicts, clf, scaler,\n",
    "    employee_id=employee_id,\n",
    "    record_id=record_id,\n",
    "    hire_date=hire_date,\n",
    "    record_date=record_date,\n",
    "    termination_date=termination_date,\n",
    "    length_of_service=length_of_service,\n",
    "    age=age,\n",
    "    birth_date=birth_date,\n",
    "    birth_year=birth_year,\n",
    "    other_target_fields=other_target_fields,\n",
    "    job_title=job_title,\n",
    "    special_field_types=special_field_types)"
   ]
  },
  {
   "cell_type": "code",
   "execution_count": 14,
   "metadata": {},
   "outputs": [
    {
     "data": {
      "text/plain": [
       "{'accuracy': 0.96956258818786534,\n",
       " 'log_loss': 0.15444179470079925,\n",
       " 'roc_auc': 0.56620463625395212}"
      ]
     },
     "execution_count": 14,
     "metadata": {},
     "output_type": "execute_result"
    }
   ],
   "source": [
    "# Create result\n",
    "assert target, 'You must specify a target field.'\n",
    "result = 'result'\n",
    "target_values = np.sort(df[target].unique())\n",
    "assert len(target_values) == 2, 'There must be 2 unique values in the target field.'\n",
    "if all(target_values == np.array([0, 1])):\n",
    "    df[result] = df[target]\n",
    "else:\n",
    "    v = df[target].value_counts().index[1]\n",
    "    df[result] = (df[target] == v).astype(int)\n",
    "\n",
    "if termination_date:\n",
    "    df.loc[df[result] == 0, termination_date] = np.datetime64('NaT')\n",
    "\n",
    "# Prediction real results\n",
    "yt = df[result].values\n",
    "get_metrics(yt, score, y_hat)"
   ]
  },
  {
   "cell_type": "code",
   "execution_count": null,
   "metadata": {
    "collapsed": true
   },
   "outputs": [],
   "source": []
  }
 ],
 "metadata": {
  "kernelspec": {
   "display_name": "Python 2",
   "language": "python",
   "name": "python2"
  },
  "language_info": {
   "codemirror_mode": {
    "name": "ipython",
    "version": 2
   },
   "file_extension": ".py",
   "mimetype": "text/x-python",
   "name": "python",
   "nbconvert_exporter": "python",
   "pygments_lexer": "ipython2",
   "version": "2.7.12"
  }
 },
 "nbformat": 4,
 "nbformat_minor": 2
}
